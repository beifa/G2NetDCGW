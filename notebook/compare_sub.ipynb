{
  "nbformat": 4,
  "nbformat_minor": 0,
  "metadata": {
    "colab": {
      "provenance": [],
      "authorship_tag": "ABX9TyPezQuuA0ctEiRXc/3xu00n"
    },
    "kernelspec": {
      "name": "python3",
      "display_name": "Python 3"
    },
    "language_info": {
      "name": "python"
    }
  },
  "cells": [
    {
      "cell_type": "code",
      "execution_count": null,
      "metadata": {
        "id": "rj9Mvbwm_t8K"
      },
      "outputs": [],
      "source": [
        "import pandas as pd"
      ]
    },
    {
      "cell_type": "code",
      "source": [
        "inception_v4_761_blend = pd.read_csv('/kaggle/input/g2net-chk-ver-ii-v3/submission.csv').set_index('id')\n",
        "inception_v4_760 = pd.read_csv('/kaggle/input/sub-g2net/submission_inception_v4_999_760.csv').set_index('id')\n",
        "efficientnetv2_b3_757 = pd.read_csv('/kaggle/input/sub-g2net/submission_tf_efficientnetv2_b3_999_757.csv').set_index('id')\n",
        "efficientnetv2_761 = pd.read_csv('/kaggle/input/g2net-chk-ver-ii-tf-efficientnetv2-m/submission.csv').set_index('id')\n",
        "cspdarknet53_760 = pd.read_csv('/kaggle/input/g2net-chk-ver-ii-cspdarknet53/submission.csv').set_index('id')\n",
        "tf_efficientnetv2_l_756 = pd.read_csv('/kaggle/input/sub-g2net/submission_g_tf_efficientnetv2_l_756.csv').set_index('id')\n",
        "hog_interception_758 = pd.read_csv('/kaggle/input/sub-g2net/hog_interception_758_best_firsttry.csv').set_index('id')\n",
        "hog_interception_763 = pd.read_csv('/kaggle/input/sub-g2net/submission_hog_inception_v4_v1_allfolds_763.csv').set_index('id')\n",
        "hog_interception_v2_757_all_fold = pd.read_csv('/kaggle/input/eval-hog-inception-v4/submission.csv').set_index('id')\n",
        "tf_efficientnetv2_l_755 = pd.read_csv('/kaggle/input/train-tf-efficientnetv2-l/submission.csv').set_index('id')\n",
        "efficientnetv2_l_hog_760 = pd.read_csv('/kaggle/input/sub-g2net/submission_efficientnetv2_l_hog_760.csv').set_index('id')\n",
        "efficientnetv2_m_hog_757 = pd.read_csv('/kaggle/input/sub-g2net/submission_efficientnetv2_m_hog_757.csv').set_index('id')\n",
        "hog_inception_v4_seed_batch_noscore = pd.read_csv('/kaggle/input/sub-g2net/submission_hog_inception_v4_seed_batch_noscore.csv').set_index('id')\n",
        "hog_inception_v4_seed_batch_noscore_v2 = pd.read_csv('/kaggle/input/sub-g2net/submission_hog_inception_v4_seed_batch_v2.csv').set_index('id')"
      ],
      "metadata": {
        "id": "kg-dqDtU_w-e"
      },
      "execution_count": null,
      "outputs": []
    },
    {
      "cell_type": "code",
      "source": [
        "sub = inception_v4_761_blend.copy()\n",
        "sub['target'] = (\n",
        "#     inception_v4_761_blend['target']\\\n",
        "#                  + tf_efficientnetv2_l_756['target']\\\n",
        "#                  + efficientnetv2_761['target'] \\\n",
        "#                  + cspdarknet53_760['target'] \\\n",
        "                 hog_interception_758['target']\\\n",
        "                 + hog_interception_763['target']\\\n",
        "#                  + tf_efficientnetv2_l_755['target']\\\n",
        "                 + efficientnetv2_m_hog_757['target']\\\n",
        "                 + efficientnetv2_l_hog_760['target']   \n",
        "   \n",
        "                ) / 4\n",
        "sub"
      ],
      "metadata": {
        "id": "WIr-badG_04k"
      },
      "execution_count": null,
      "outputs": []
    },
    {
      "cell_type": "code",
      "source": [
        "sub.to_csv('submission.csv')"
      ],
      "metadata": {
        "id": "8d_uBykC_5Xb"
      },
      "execution_count": null,
      "outputs": []
    }
  ]
}